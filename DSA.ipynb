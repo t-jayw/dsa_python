{
 "cells": [
  {
   "cell_type": "code",
   "execution_count": 2,
   "id": "669b4fc1",
   "metadata": {},
   "outputs": [
    {
     "data": {
      "text/plain": [
       "4"
      ]
     },
     "execution_count": 2,
     "metadata": {},
     "output_type": "execute_result"
    }
   ],
   "source": [
    "def count_digits(n):\n",
    "    n = abs(n)\n",
    "    if n == 0:\n",
    "        return 1\n",
    "    count = 0\n",
    "    while n > 0:\n",
    "        n //= 10\n",
    "        count += 1\n",
    "    return count\n",
    "\n",
    "count_digits(7473)"
   ]
  },
  {
   "cell_type": "code",
   "execution_count": 8,
   "id": "d719d24a",
   "metadata": {},
   "outputs": [
    {
     "name": "stdout",
     "output_type": "stream",
     "text": [
      "True\n",
      "False\n"
     ]
    }
   ],
   "source": [
    "def palindrome_number(n):\n",
    "    \n",
    "    original_num = n\n",
    "    reverse = 0\n",
    "    while n > 0:\n",
    "        last_digit = n % 10\n",
    "        n //= 10\n",
    "        reverse = 10*reverse + last_digit\n",
    "    \n",
    "    return reverse == original_num\n",
    "        \n",
    "print(palindrome_number(121))\n",
    "print(palindrome_number(123))\n",
    "    "
   ]
  },
  {
   "cell_type": "code",
   "execution_count": 33,
   "id": "5f015fc0",
   "metadata": {},
   "outputs": [
    {
     "name": "stdout",
     "output_type": "stream",
     "text": [
      "2\n",
      "6\n"
     ]
    }
   ],
   "source": [
    "def factorial_iterative(n):\n",
    "    ret = 1\n",
    "    for i in range(2, n+1):\n",
    "        ret = ret * i\n",
    "    return ret\n",
    "\n",
    "print(factorial_iterative(2))\n",
    "\n",
    "def factorial_recursive(n):\n",
    "    if(n==0):\n",
    "        return 1\n",
    "    else:\n",
    "        return n * factorial_recursive(n-1)\n",
    "\n",
    "print(factorial_recursive(3))"
   ]
  },
  {
   "cell_type": "code",
   "execution_count": 47,
   "id": "d3e623c3",
   "metadata": {},
   "outputs": [
    {
     "data": {
      "text/plain": [
       "2"
      ]
     },
     "execution_count": 47,
     "metadata": {},
     "output_type": "execute_result"
    }
   ],
   "source": [
    "# Naive solution will result in calculating a factorial that may\n",
    "# be large enough to overflow, and take time complexity of O(n)\n",
    "\n",
    "# By counting 2 x 5 pairs we can count 0s \n",
    "# every fifth number is a n/5 \n",
    "\n",
    "def trailing_zeros_factorial(n):\n",
    "    five_res = 0\n",
    "    \n",
    "    i = 1\n",
    "    while n >= 5 ** i:\n",
    "        if i == 1:\n",
    "            counts = n // 5\n",
    "        else:\n",
    "            counts = n // 5 ** i\n",
    "        five_res += counts\n",
    "        i += 1\n",
    "    \n",
    "    return five_res\n",
    "\n",
    "trailing_zeros_factorial(10)"
   ]
  },
  {
   "cell_type": "code",
   "execution_count": 50,
   "id": "240c474c",
   "metadata": {},
   "outputs": [
    {
     "name": "stdout",
     "output_type": "stream",
     "text": [
      "12\n",
      "1\n"
     ]
    }
   ],
   "source": [
    "# JUST MEMORIZE \n",
    "\n",
    "def gcd(a, b):\n",
    "    while b:\n",
    "        a, b = b, a % b\n",
    "    return a\n",
    "\n",
    "\n",
    "def lesser_gcd(a, b):\n",
    "    while a != b:\n",
    "        if a > b:\n",
    "            a = a - b\n",
    "        else:\n",
    "            b = b - a\n",
    "    return a\n",
    "\n",
    "print(gcd(48, 180))  # Outputs: 12\n",
    "print(lesser_gcd(48, 77))  # Outputs: 12"
   ]
  },
  {
   "cell_type": "code",
   "execution_count": 51,
   "id": "52547002",
   "metadata": {},
   "outputs": [
    {
     "data": {
      "text/plain": [
       "60.0"
      ]
     },
     "execution_count": 51,
     "metadata": {},
     "output_type": "execute_result"
    }
   ],
   "source": [
    "# a * b = gcd(a, b) * lcm(a, b)\n",
    "# lcm(a, b) = (a* b) / gcd(a, b)\n",
    "def lcm(a, b):\n",
    "    gcd = lesser_gcd(a, b)\n",
    "    \n",
    "    ret_lcm = (a*b) / gcd\n",
    "    \n",
    "    return ret_lcm\n",
    "\n",
    "lcm(12,15)\n",
    "    "
   ]
  },
  {
   "cell_type": "code",
   "execution_count": 77,
   "id": "8c59b7d8",
   "metadata": {},
   "outputs": [
    {
     "name": "stdout",
     "output_type": "stream",
     "text": [
      "False\n",
      "False\n",
      "True\n"
     ]
    }
   ],
   "source": [
    "# Is prime\n",
    "# Naive: check all numbers up to n for %\n",
    "\n",
    "# O(root(n))\n",
    "# Proof by Contradiction: Assume that n is not a prime \n",
    "# and we have not found any factors a or b such that a * b = n \n",
    "# for a and b less than or equal to sqrt(n). \n",
    "# That would imply that both a and b are greater than sqrt(n), \n",
    "# but their product a * b would then be greater than n itself, \n",
    "# which is a contradiction. Hence, if n is not a prime, \n",
    "# we must find a divisor less than or equal to sqrt(n).\n",
    "\n",
    "import math\n",
    "\n",
    "def is_prime(n):\n",
    "    if n <= 1:\n",
    "        return False\n",
    "    for i in range(2, int(n**(1/2)) + 1):\n",
    "        if n % i == 0:\n",
    "            return False\n",
    "    return True\n",
    "\n",
    "print(is_prime(21))\n",
    "\n",
    "\n",
    "#  all primes greater than 3 are of the form 6k±1 \n",
    "\n",
    "def is_prime_6k1(n):\n",
    "    if n == 1:\n",
    "        return False\n",
    "    if n == 2 | n == 3:\n",
    "        return True\n",
    "    if n%2 * n%3 == 0:\n",
    "        return False\n",
    "    i = 5\n",
    "    for i in range(5, int(math.sqrt(n)) + 1, 6):\n",
    "        if n % i == 0 or n % (i + 2) == 0:\n",
    "            return False\n",
    "    return True\n",
    "\n",
    "\n",
    "\n",
    "print(is_prime_6k1(21))\n",
    "print(is_prime_6k1(23))\n"
   ]
  },
  {
   "cell_type": "code",
   "execution_count": 86,
   "id": "9257fbfd",
   "metadata": {},
   "outputs": [
    {
     "name": "stdout",
     "output_type": "stream",
     "text": [
      "12 2\n",
      "12 4\n",
      "12 3\n"
     ]
    },
    {
     "data": {
      "text/plain": [
       "[2, 2, 3]"
      ]
     },
     "execution_count": 86,
     "metadata": {},
     "output_type": "execute_result"
    }
   ],
   "source": [
    "# Print prime factors\n",
    "def prime_factors(n):\n",
    "    prime_facs = []\n",
    "    \n",
    "    i = 2\n",
    "    while i*i < n:\n",
    "        if not is_prime_6k1(i):\n",
    "            pass\n",
    "        if n % i == 0:\n",
    "            x = i\n",
    "            while n % x == 0:\n",
    "                print(n, x)\n",
    "                x = i * x\n",
    "                prime_facs.append(i)\n",
    "        i += 1\n",
    "    \n",
    "    return prime_facs\n",
    "\n",
    "prime_factors(12)"
   ]
  },
  {
   "cell_type": "code",
   "execution_count": null,
   "id": "13aab244",
   "metadata": {},
   "outputs": [],
   "source": []
  }
 ],
 "metadata": {
  "kernelspec": {
   "display_name": "Python 3 (ipykernel)",
   "language": "python",
   "name": "python3"
  },
  "language_info": {
   "codemirror_mode": {
    "name": "ipython",
    "version": 3
   },
   "file_extension": ".py",
   "mimetype": "text/x-python",
   "name": "python",
   "nbconvert_exporter": "python",
   "pygments_lexer": "ipython3",
   "version": "3.9.5"
  }
 },
 "nbformat": 4,
 "nbformat_minor": 5
}
