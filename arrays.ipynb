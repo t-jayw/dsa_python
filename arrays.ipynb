{
 "cells": [
  {
   "cell_type": "code",
   "execution_count": 3,
   "id": "4a3c0ee5",
   "metadata": {},
   "outputs": [
    {
     "data": {
      "text/plain": [
       "-1"
      ]
     },
     "execution_count": 3,
     "metadata": {},
     "output_type": "execute_result"
    }
   ],
   "source": [
    "# O(n)\n",
    "def search_array_linear(array, n):\n",
    "    for i in range(len(array)):\n",
    "        if array[i] == n:\n",
    "            return i\n",
    "    return -1\n",
    "\n",
    "search_array_linear([1,2,3,4], 3)\n",
    "search_array_linear([1,2,3,4], 6)"
   ]
  },
  {
   "cell_type": "code",
   "execution_count": 7,
   "id": "88acadf4",
   "metadata": {},
   "outputs": [
    {
     "data": {
      "text/plain": [
       "4"
      ]
     },
     "execution_count": 7,
     "metadata": {},
     "output_type": "execute_result"
    }
   ],
   "source": [
    "# largest element in array\n",
    "\n",
    "def largest_el(array):\n",
    "    max_val_idx = 0\n",
    "    for idx, i in enumerate(array):\n",
    "        if i > array[max_val_idx]:\n",
    "            array[max_val_idx] = array[idx]\n",
    "            max_val_idx = idx\n",
    "    return max_val_idx\n",
    "\n",
    "largest_el([1,2,3,4,5])"
   ]
  },
  {
   "cell_type": "code",
   "execution_count": 10,
   "id": "3b811d7b",
   "metadata": {},
   "outputs": [
    {
     "name": "stdout",
     "output_type": "stream",
     "text": [
      "3\n",
      "-1\n"
     ]
    }
   ],
   "source": [
    "def second_largest_el(array):\n",
    "    max_val_idx = 0\n",
    "    second_max_val_idx = None\n",
    "    \n",
    "    for idx, _ in enumerate(array):\n",
    "        if array[idx] > array[max_val_idx]:\n",
    "            second_max_val_idx = max_val_idx\n",
    "            max_val_idx = idx\n",
    "    \n",
    "    return second_max_val_idx or -1\n",
    "\n",
    "    \n",
    "\n",
    "print(second_largest_el([1,2,3,4,5]))\n",
    "print(second_largest_el([1,1,1]))"
   ]
  },
  {
   "cell_type": "code",
   "execution_count": 11,
   "id": "faa824b7",
   "metadata": {},
   "outputs": [
    {
     "name": "stdout",
     "output_type": "stream",
     "text": [
      "True\n",
      "True\n",
      "False\n"
     ]
    }
   ],
   "source": [
    "def array_sorted(array):\n",
    "    \n",
    "    for i in range(1,len(array)):\n",
    "        if array[i] < array[i-1]:\n",
    "            return False\n",
    "        else:\n",
    "            return True\n",
    "        \n",
    "    \n",
    "\n",
    "print(array_sorted([1,2,3,4]))\n",
    "print(array_sorted([1,1,1]))\n",
    "print(array_sorted([3,2,1]))"
   ]
  },
  {
   "cell_type": "code",
   "execution_count": 17,
   "id": "e540c4cc",
   "metadata": {},
   "outputs": [
    {
     "data": {
      "text/plain": [
       "3"
      ]
     },
     "execution_count": 17,
     "metadata": {},
     "output_type": "execute_result"
    }
   ],
   "source": [
    "len([1,2,3])-1\n",
    "[1,2,3][2]"
   ]
  },
  {
   "cell_type": "code",
   "execution_count": 25,
   "id": "fedba9c8",
   "metadata": {},
   "outputs": [
    {
     "name": "stdout",
     "output_type": "stream",
     "text": [
      "[3, 2, 1]\n",
      "[4, 3, 2, 1]\n",
      "[1]\n"
     ]
    }
   ],
   "source": [
    "def reverse_array(array):\n",
    "    \n",
    "    i = 0\n",
    "    j = len(array) - 1\n",
    "    \n",
    "    while i < j:\n",
    "        array[i], array[j] =  array[j], array[i]\n",
    "        \n",
    "        i += 1\n",
    "        j -= 1\n",
    "    \n",
    "    return array\n",
    "\n",
    "print(reverse_array([1,2,3]))\n",
    "print(reverse_array([1,2,3,4]))\n",
    "print(reverse_array([1]))"
   ]
  },
  {
   "cell_type": "code",
   "execution_count": 36,
   "id": "60670f3e",
   "metadata": {},
   "outputs": [
    {
     "name": "stdout",
     "output_type": "stream",
     "text": [
      "([1, 2, 3, 4], 4)\n",
      "([10, 20, 30], 3)\n"
     ]
    }
   ],
   "source": [
    "def remove_dupes_sorted_array(array):\n",
    "    \n",
    "    i = 0\n",
    "    j = 1\n",
    "    \n",
    "    while j < len(array):\n",
    "        if array[j] != array[i]:\n",
    "            i += 1\n",
    "            array[i] = array[j]\n",
    "        j += 1\n",
    "    i += 1\n",
    "    \n",
    "    return array[:i], i\n",
    "\n",
    "print(remove_dupes_sorted_array([1,1,2,3,3,4]))\n",
    "print(remove_dupes_sorted_array([10,20,20,30,30,30]))"
   ]
  },
  {
   "cell_type": "code",
   "execution_count": 69,
   "id": "1a2b8b55",
   "metadata": {},
   "outputs": [
    {
     "name": "stdout",
     "output_type": "stream",
     "text": [
      "[1, 2, 3, 0, 0, 0]\n",
      "[1, 2]\n"
     ]
    }
   ],
   "source": [
    "def move_zeros_to_end(array):\n",
    "    \n",
    "    last = len(array) - 1\n",
    "    for idx, _ in enumerate(array):\n",
    "        if array[idx] == 0:\n",
    "            i = idx\n",
    "            while i < last:\n",
    "                array[i] = array[i+1]\n",
    "                i += 1\n",
    "            last -= 1\n",
    "                 \n",
    "    return array\n",
    "    \n",
    "print(move_zeros_to_end([1,0,2,0,3,0]))\n",
    "print(move_zeros_to_end([1,2]))\n",
    "\n",
    "# Not ideal because nested loop"
   ]
  },
  {
   "cell_type": "code",
   "execution_count": 97,
   "id": "fcc996d4",
   "metadata": {},
   "outputs": [
    {
     "name": "stdout",
     "output_type": "stream",
     "text": [
      "[1, 0, 2, 0, 3, 0]\n",
      "idx 0 = value 1,  not 0\n",
      "next non-zero element at = 0\n",
      "swapping 1, 1\n",
      "increment next non-zero element to 1\n",
      "[1, 0, 2, 0, 3, 0]\n",
      "\n",
      "\n",
      "[1, 0, 2, 0, 3, 0]\n",
      "idx 1 = value 0, do nothing\n",
      "count = 1\n",
      "\n",
      "\n",
      "[1, 0, 2, 0, 3, 0]\n",
      "idx 2 = value 2,  not 0\n",
      "next non-zero element at = 1\n",
      "swapping 0, 2\n",
      "increment next non-zero element to 2\n",
      "[1, 2, 0, 0, 3, 0]\n",
      "\n",
      "\n",
      "[1, 2, 0, 0, 3, 0]\n",
      "idx 3 = value 0, do nothing\n",
      "count = 2\n",
      "\n",
      "\n",
      "[1, 2, 0, 0, 3, 0]\n",
      "idx 4 = value 3,  not 0\n",
      "next non-zero element at = 2\n",
      "swapping 0, 3\n",
      "increment next non-zero element to 3\n",
      "[1, 2, 3, 0, 0, 0]\n",
      "\n",
      "\n",
      "[1, 2, 3, 0, 0, 0]\n",
      "idx 5 = value 0, do nothing\n",
      "count = 3\n",
      "\n",
      "\n",
      "[1, 2, 3, 0, 0, 0]\n",
      "\n",
      "\n",
      "[1, 2]\n",
      "idx 0 = value 1,  not 0\n",
      "next non-zero element at = 0\n",
      "swapping 1, 1\n",
      "increment next non-zero element to 1\n",
      "[1, 2]\n",
      "\n",
      "\n",
      "[1, 2]\n",
      "idx 1 = value 2,  not 0\n",
      "next non-zero element at = 1\n",
      "swapping 2, 2\n",
      "increment next non-zero element to 2\n",
      "[1, 2]\n",
      "\n",
      "\n",
      "[1, 2]\n",
      "\n",
      "\n",
      "[1, 0, 10, 0]\n",
      "idx 0 = value 1,  not 0\n",
      "next non-zero element at = 0\n",
      "swapping 1, 1\n",
      "increment next non-zero element to 1\n",
      "[1, 0, 10, 0]\n",
      "\n",
      "\n",
      "[1, 0, 10, 0]\n",
      "idx 1 = value 0, do nothing\n",
      "count = 1\n",
      "\n",
      "\n",
      "[1, 0, 10, 0]\n",
      "idx 2 = value 10,  not 0\n",
      "next non-zero element at = 1\n",
      "swapping 0, 10\n",
      "increment next non-zero element to 2\n",
      "[1, 10, 0, 0]\n",
      "\n",
      "\n",
      "[1, 10, 0, 0]\n",
      "idx 3 = value 0, do nothing\n",
      "count = 2\n",
      "\n",
      "\n",
      "[1, 10, 0, 0]\n"
     ]
    }
   ],
   "source": [
    "def fast_move_zeros_to_end(array):\n",
    "    count = 0\n",
    "    for idx, _ in enumerate(array):\n",
    "        print(array)\n",
    "\n",
    "        if array[idx] != 0:\n",
    "            print(f'idx {idx} = value {array[idx]},  not 0')\n",
    "            print(f'next non-zero element at = {count}')\n",
    "            print(f'swapping {array[count]}, {array[idx]}')\n",
    "            array[count], array[idx] = array[idx], array[count]\n",
    "            count += 1\n",
    "            print(f'increment next non-zero element to {count}')\n",
    "            print(array)\n",
    "            print('\\n')\n",
    "        else:\n",
    "            print(f'idx {idx} = value {array[idx]}, do nothing')\n",
    "            print(f'count = {count}')\n",
    "            print('\\n')\n",
    "\n",
    "    return array\n",
    "    \n",
    "print(fast_move_zeros_to_end([1,0,2,0,3,0]))\n",
    "print('\\n')\n",
    "print(fast_move_zeros_to_end([1,2]))\n",
    "print('\\n')\n",
    "print(fast_move_zeros_to_end([1,0,10,0]))"
   ]
  },
  {
   "cell_type": "code",
   "execution_count": 101,
   "id": "d2185d1a",
   "metadata": {},
   "outputs": [
    {
     "name": "stdout",
     "output_type": "stream",
     "text": [
      "[2, 3, 1]\n"
     ]
    }
   ],
   "source": [
    "def left_rotate_by_one(array):\n",
    "    \n",
    "    first_el = array[0]\n",
    "    \n",
    "    for idx, _ in enumerate(array[1:]):\n",
    "        array[idx] = _\n",
    "    \n",
    "    array[len(array)-1] = first_el\n",
    "    \n",
    "    return array\n",
    "    \n",
    "    \n",
    "print(left_rotate_by_one([1,2,3]))\n",
    "print(left_rotate_by_one([1]))"
   ]
  },
  {
   "cell_type": "code",
   "execution_count": 112,
   "id": "150ea5f8",
   "metadata": {},
   "outputs": [
    {
     "name": "stdout",
     "output_type": "stream",
     "text": [
      "[3, 4, 5, 1, 2]\n"
     ]
    }
   ],
   "source": [
    "def reverse_array(array):\n",
    "    \n",
    "    i = 0\n",
    "    j = len(array) - 1\n",
    "    \n",
    "    while i < j:\n",
    "        array[i], array[j] =  array[j], array[i]\n",
    "        \n",
    "        i += 1\n",
    "        j -= 1\n",
    "    \n",
    "    return array\n",
    "\n",
    "def left_rotate_by_n(array, n):\n",
    "    \n",
    "    \"\"\"reverse array up to n\"\"\"\n",
    "    \n",
    "    i = 0\n",
    "    j = n - 1\n",
    "    while i < j:\n",
    "        array[i], array[j] = array[j], array[i]\n",
    "        i += 1\n",
    "        j -= 1\n",
    "    \n",
    "    \n",
    "    i = n\n",
    "    j = len(array) - 1\n",
    "    while i < j:\n",
    "        array[i], array[j] = array[j], array[i]\n",
    "        i += 1\n",
    "        j -= 1\n",
    "        \n",
    "    i = 0 \n",
    "    j = len(array) - 1\n",
    "    while i < j:\n",
    "        array[i], array[j] = array[j], array[i]\n",
    "        i += 1\n",
    "        j -= 1   \n",
    "\n",
    "    return(array)\n",
    "    \n",
    "    \n",
    "\n",
    "print(left_rotate_by_n([1,2,3,4,5], 2))\n"
   ]
  },
  {
   "cell_type": "code",
   "execution_count": 117,
   "id": "9989dc5f",
   "metadata": {},
   "outputs": [
    {
     "name": "stdout",
     "output_type": "stream",
     "text": [
      "2\n",
      "5\n",
      "6\n",
      "10\n",
      "None\n"
     ]
    }
   ],
   "source": [
    "# leader if nothing to right is larger\n",
    "\n",
    "def leaders_in_array(array):\n",
    "    \n",
    "    idx = len(array) - 1\n",
    "    \n",
    "    max_seen = -1\n",
    "\n",
    "    while idx >= 0:\n",
    "        if array[idx] > max_seen:\n",
    "            max_seen = array[idx]\n",
    "            print(array[idx])\n",
    "        idx -= 1\n",
    "    \n",
    "print(leaders_in_array([7,10,4,3,6,5,2]))\n"
   ]
  },
  {
   "cell_type": "code",
   "execution_count": 141,
   "id": "ab27285c",
   "metadata": {},
   "outputs": [
    {
     "name": "stdout",
     "output_type": "stream",
     "text": [
      "8\n",
      "2\n",
      "20\n",
      "-2\n"
     ]
    }
   ],
   "source": [
    "def max_difference_naive(array):\n",
    "    max_difference =  float(\"inf\") * -1\n",
    "    idx = len(array) - 1\n",
    "    while idx > 0:\n",
    "        jdx = idx - 1\n",
    "        while jdx >= 0:\n",
    "            if array[idx] - array[jdx] > max_difference:\n",
    "                max_difference = array[idx] - array[jdx]\n",
    "            #print(f'{array[idx]} - {array[jdx]}')\n",
    "            jdx -= 1\n",
    "        idx -= 1  \n",
    "    return max_difference\n",
    "    \n",
    "\n",
    "print(max_difference_naive([2,3,10,6,4,8,1]))\n",
    "# should be 8\n",
    "print(max_difference_naive([7,9,5,6,3,2]))\n",
    "# should be 2\n",
    "print(max_difference_naive([10, 20, 30]))\n",
    "# should be 20\n",
    "print(max_difference_naive([30, 10, 8, 2]))\n",
    "# should be -2\n"
   ]
  },
  {
   "cell_type": "code",
   "execution_count": 159,
   "id": "d15bc1c0",
   "metadata": {},
   "outputs": [
    {
     "name": "stdout",
     "output_type": "stream",
     "text": [
      "8\n",
      "2\n",
      "20\n",
      "-2\n"
     ]
    }
   ],
   "source": [
    "\"\"\"Order of updating matters: The reason you update max_difference first before \n",
    "updating min_element is because you want to compare the \n",
    "current element (array[jdx]) against the smallest element encountered \n",
    "up to the previous element, \n",
    "not including the current one. If you updated min_element first, \n",
    "you would be potentially comparing an element with itself \n",
    "(in cases where the current element becomes the new min_element), \n",
    "which would always give a difference of zero.\"\"\"\n",
    "\n",
    "\n",
    "def max_difference_efficient(array):\n",
    "    \n",
    "    min_element = array[0]\n",
    "    max_difference = array[1] - array[0]\n",
    "    \n",
    "    jdx = 1\n",
    "    while jdx < len(array):\n",
    "        max_difference = max(max_difference, array[jdx]-min_element)\n",
    "        min_element = min(min_element, array[jdx])\n",
    "\n",
    "        jdx += 1\n",
    "    \n",
    "    return max_difference\n",
    "\n",
    "print(max_difference_efficient([2,3,10,6,4,8,1]))\n",
    "# should be 8\n",
    "print(max_difference_efficient([7,9,5,6,3,2]))\n",
    "# should be 2\n",
    "print(max_difference_efficient([10, 20, 30]))\n",
    "# should be 20\n",
    "print(max_difference_efficient([30, 10, 8, 2]))\n",
    "# should be -2"
   ]
  },
  {
   "cell_type": "code",
   "execution_count": null,
   "id": "480c31ff",
   "metadata": {},
   "outputs": [],
   "source": []
  }
 ],
 "metadata": {
  "kernelspec": {
   "display_name": "Python 3 (ipykernel)",
   "language": "python",
   "name": "python3"
  },
  "language_info": {
   "codemirror_mode": {
    "name": "ipython",
    "version": 3
   },
   "file_extension": ".py",
   "mimetype": "text/x-python",
   "name": "python",
   "nbconvert_exporter": "python",
   "pygments_lexer": "ipython3",
   "version": "3.9.5"
  }
 },
 "nbformat": 4,
 "nbformat_minor": 5
}
