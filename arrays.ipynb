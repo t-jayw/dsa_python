{
 "cells": [
  {
   "cell_type": "code",
   "execution_count": 3,
   "id": "4a3c0ee5",
   "metadata": {},
   "outputs": [
    {
     "data": {
      "text/plain": [
       "-1"
      ]
     },
     "execution_count": 3,
     "metadata": {},
     "output_type": "execute_result"
    }
   ],
   "source": [
    "# O(n)\n",
    "def search_array_linear(array, n):\n",
    "    for i in range(len(array)):\n",
    "        if array[i] == n:\n",
    "            return i\n",
    "    return -1\n",
    "\n",
    "search_array_linear([1,2,3,4], 3)\n",
    "search_array_linear([1,2,3,4], 6)"
   ]
  },
  {
   "cell_type": "code",
   "execution_count": 7,
   "id": "88acadf4",
   "metadata": {},
   "outputs": [
    {
     "data": {
      "text/plain": [
       "4"
      ]
     },
     "execution_count": 7,
     "metadata": {},
     "output_type": "execute_result"
    }
   ],
   "source": [
    "# largest element in array\n",
    "\n",
    "def largest_el(array):\n",
    "    max_val_idx = 0\n",
    "    for idx, i in enumerate(array):\n",
    "        if i > array[max_val_idx]:\n",
    "            array[max_val_idx] = array[idx]\n",
    "            max_val_idx = idx\n",
    "    return max_val_idx\n",
    "\n",
    "largest_el([1,2,3,4,5])"
   ]
  },
  {
   "cell_type": "code",
   "execution_count": 10,
   "id": "9163ac7e",
   "metadata": {},
   "outputs": [
    {
     "name": "stdout",
     "output_type": "stream",
     "text": [
      "3\n",
      "-1\n"
     ]
    }
   ],
   "source": [
    "def second_largest_el(array):\n",
    "    max_val_idx = 0\n",
    "    second_max_val_idx = None\n",
    "    \n",
    "    for idx, _ in enumerate(array):\n",
    "        if array[idx] > array[max_val_idx]:\n",
    "            second_max_val_idx = max_val_idx\n",
    "            max_val_idx = idx\n",
    "    \n",
    "    return second_max_val_idx or -1\n",
    "\n",
    "    \n",
    "\n",
    "print(second_largest_el([1,2,3,4,5]))\n",
    "print(second_largest_el([1,1,1]))"
   ]
  },
  {
   "cell_type": "code",
   "execution_count": 11,
   "id": "df381d45",
   "metadata": {},
   "outputs": [
    {
     "name": "stdout",
     "output_type": "stream",
     "text": [
      "True\n",
      "True\n",
      "False\n"
     ]
    }
   ],
   "source": [
    "def array_sorted(array):\n",
    "    \n",
    "    for i in range(1,len(array)):\n",
    "        if array[i] < array[i-1]:\n",
    "            return False\n",
    "        else:\n",
    "            return True\n",
    "        \n",
    "    \n",
    "\n",
    "print(array_sorted([1,2,3,4]))\n",
    "print(array_sorted([1,1,1]))\n",
    "print(array_sorted([3,2,1]))"
   ]
  },
  {
   "cell_type": "code",
   "execution_count": 17,
   "id": "80d6760e",
   "metadata": {},
   "outputs": [
    {
     "data": {
      "text/plain": [
       "3"
      ]
     },
     "execution_count": 17,
     "metadata": {},
     "output_type": "execute_result"
    }
   ],
   "source": [
    "len([1,2,3])-1\n",
    "[1,2,3][2]"
   ]
  },
  {
   "cell_type": "code",
   "execution_count": 25,
   "id": "a98cce14",
   "metadata": {},
   "outputs": [
    {
     "name": "stdout",
     "output_type": "stream",
     "text": [
      "[3, 2, 1]\n",
      "[4, 3, 2, 1]\n",
      "[1]\n"
     ]
    }
   ],
   "source": [
    "def reverse_array(array):\n",
    "    \n",
    "    i = 0\n",
    "    j = len(array) - 1\n",
    "    \n",
    "    while i < j:\n",
    "        array[i], array[j] =  array[j], array[i]\n",
    "        \n",
    "        i += 1\n",
    "        j -= 1\n",
    "    \n",
    "    return array\n",
    "\n",
    "print(reverse_array([1,2,3]))\n",
    "print(reverse_array([1,2,3,4]))\n",
    "print(reverse_array([1]))"
   ]
  },
  {
   "cell_type": "code",
   "execution_count": 36,
   "id": "4842fc75",
   "metadata": {},
   "outputs": [
    {
     "name": "stdout",
     "output_type": "stream",
     "text": [
      "([1, 2, 3, 4], 4)\n",
      "([10, 20, 30], 3)\n"
     ]
    }
   ],
   "source": [
    "def remove_dupes_sorted_array(array):\n",
    "    \n",
    "    i = 0\n",
    "    j = 1\n",
    "    \n",
    "    while j < len(array):\n",
    "        if array[j] != array[i]:\n",
    "            i += 1\n",
    "            array[i] = array[j]\n",
    "        j += 1\n",
    "    i += 1\n",
    "    \n",
    "    return array[:i], i\n",
    "\n",
    "print(remove_dupes_sorted_array([1,1,2,3,3,4]))\n",
    "print(remove_dupes_sorted_array([10,20,20,30,30,30]))"
   ]
  },
  {
   "cell_type": "code",
   "execution_count": 68,
   "id": "55215c87",
   "metadata": {},
   "outputs": [
    {
     "name": "stdout",
     "output_type": "stream",
     "text": [
      "[1, 2, 3, 0, 0, 0]\n"
     ]
    }
   ],
   "source": [
    "def move_zeros_to_end(array):\n",
    "    \n",
    "    last = len(array) - 1\n",
    "    for idx, _ in enumerate(array):\n",
    "        if array[idx] == 0:\n",
    "            i = idx\n",
    "            while i < last:\n",
    "                array[i] = array[i+1]\n",
    "                i += 1\n",
    "            last -= 1\n",
    "                 \n",
    "    return array\n",
    "    \n",
    "print(move_zeros_to_end([1,0,2,0,3,0]))"
   ]
  },
  {
   "cell_type": "code",
   "execution_count": null,
   "id": "50f69cd4",
   "metadata": {},
   "outputs": [],
   "source": []
  }
 ],
 "metadata": {
  "kernelspec": {
   "display_name": "Python 3 (ipykernel)",
   "language": "python",
   "name": "python3"
  },
  "language_info": {
   "codemirror_mode": {
    "name": "ipython",
    "version": 3
   },
   "file_extension": ".py",
   "mimetype": "text/x-python",
   "name": "python",
   "nbconvert_exporter": "python",
   "pygments_lexer": "ipython3",
   "version": "3.9.5"
  }
 },
 "nbformat": 4,
 "nbformat_minor": 5
}
