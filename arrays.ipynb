{
 "cells": [
  {
   "cell_type": "code",
   "execution_count": 3,
   "id": "4a3c0ee5",
   "metadata": {},
   "outputs": [
    {
     "data": {
      "text/plain": [
       "-1"
      ]
     },
     "execution_count": 3,
     "metadata": {},
     "output_type": "execute_result"
    }
   ],
   "source": [
    "# O(n)\n",
    "def search_array_linear(array, n):\n",
    "    for i in range(len(array)):\n",
    "        if array[i] == n:\n",
    "            return i\n",
    "    return -1\n",
    "\n",
    "search_array_linear([1,2,3,4], 3)\n",
    "search_array_linear([1,2,3,4], 6)"
   ]
  },
  {
   "cell_type": "code",
   "execution_count": 7,
   "id": "88acadf4",
   "metadata": {},
   "outputs": [
    {
     "data": {
      "text/plain": [
       "4"
      ]
     },
     "execution_count": 7,
     "metadata": {},
     "output_type": "execute_result"
    }
   ],
   "source": [
    "# largest element in array\n",
    "\n",
    "def largest_el(array):\n",
    "    max_val_idx = 0\n",
    "    for idx, i in enumerate(array):\n",
    "        if i > array[max_val_idx]:\n",
    "            array[max_val_idx] = array[idx]\n",
    "            max_val_idx = idx\n",
    "    return max_val_idx\n",
    "\n",
    "largest_el([1,2,3,4,5])"
   ]
  },
  {
   "cell_type": "code",
   "execution_count": 10,
   "id": "e51bb95f",
   "metadata": {},
   "outputs": [
    {
     "name": "stdout",
     "output_type": "stream",
     "text": [
      "3\n",
      "-1\n"
     ]
    }
   ],
   "source": [
    "def second_largest_el(array):\n",
    "    max_val_idx = 0\n",
    "    second_max_val_idx = None\n",
    "    \n",
    "    for idx, _ in enumerate(array):\n",
    "        if array[idx] > array[max_val_idx]:\n",
    "            second_max_val_idx = max_val_idx\n",
    "            max_val_idx = idx\n",
    "    \n",
    "    return second_max_val_idx or -1\n",
    "\n",
    "    \n",
    "\n",
    "print(second_largest_el([1,2,3,4,5]))\n",
    "print(second_largest_el([1,1,1]))"
   ]
  },
  {
   "cell_type": "code",
   "execution_count": 11,
   "id": "032044e4",
   "metadata": {},
   "outputs": [
    {
     "name": "stdout",
     "output_type": "stream",
     "text": [
      "True\n",
      "True\n",
      "False\n"
     ]
    }
   ],
   "source": [
    "def array_sorted(array):\n",
    "    \n",
    "    for i in range(1,len(array)):\n",
    "        if array[i] < array[i-1]:\n",
    "            return False\n",
    "        else:\n",
    "            return True\n",
    "        \n",
    "    \n",
    "\n",
    "print(array_sorted([1,2,3,4]))\n",
    "print(array_sorted([1,1,1]))\n",
    "print(array_sorted([3,2,1]))"
   ]
  },
  {
   "cell_type": "code",
   "execution_count": 17,
   "id": "dfaa5903",
   "metadata": {},
   "outputs": [
    {
     "data": {
      "text/plain": [
       "3"
      ]
     },
     "execution_count": 17,
     "metadata": {},
     "output_type": "execute_result"
    }
   ],
   "source": [
    "len([1,2,3])-1\n",
    "[1,2,3][2]"
   ]
  },
  {
   "cell_type": "code",
   "execution_count": 25,
   "id": "de5a8175",
   "metadata": {},
   "outputs": [
    {
     "name": "stdout",
     "output_type": "stream",
     "text": [
      "[3, 2, 1]\n",
      "[4, 3, 2, 1]\n",
      "[1]\n"
     ]
    }
   ],
   "source": [
    "def reverse_array(array):\n",
    "    \n",
    "    i = 0\n",
    "    j = len(array) - 1\n",
    "    \n",
    "    while i < j:\n",
    "        array[i], array[j] =  array[j], array[i]\n",
    "        \n",
    "        i += 1\n",
    "        j -= 1\n",
    "    \n",
    "    return array\n",
    "\n",
    "print(reverse_array([1,2,3]))\n",
    "print(reverse_array([1,2,3,4]))\n",
    "print(reverse_array([1]))"
   ]
  },
  {
   "cell_type": "code",
   "execution_count": 36,
   "id": "3228200e",
   "metadata": {},
   "outputs": [
    {
     "name": "stdout",
     "output_type": "stream",
     "text": [
      "([1, 2, 3, 4], 4)\n",
      "([10, 20, 30], 3)\n"
     ]
    }
   ],
   "source": [
    "def remove_dupes_sorted_array(array):\n",
    "    \n",
    "    i = 0\n",
    "    j = 1\n",
    "    \n",
    "    while j < len(array):\n",
    "        if array[j] != array[i]:\n",
    "            i += 1\n",
    "            array[i] = array[j]\n",
    "        j += 1\n",
    "    i += 1\n",
    "    \n",
    "    return array[:i], i\n",
    "\n",
    "print(remove_dupes_sorted_array([1,1,2,3,3,4]))\n",
    "print(remove_dupes_sorted_array([10,20,20,30,30,30]))"
   ]
  },
  {
   "cell_type": "code",
   "execution_count": 69,
   "id": "87ce8a34",
   "metadata": {},
   "outputs": [
    {
     "name": "stdout",
     "output_type": "stream",
     "text": [
      "[1, 2, 3, 0, 0, 0]\n",
      "[1, 2]\n"
     ]
    }
   ],
   "source": [
    "def move_zeros_to_end(array):\n",
    "    \n",
    "    last = len(array) - 1\n",
    "    for idx, _ in enumerate(array):\n",
    "        if array[idx] == 0:\n",
    "            i = idx\n",
    "            while i < last:\n",
    "                array[i] = array[i+1]\n",
    "                i += 1\n",
    "            last -= 1\n",
    "                 \n",
    "    return array\n",
    "    \n",
    "print(move_zeros_to_end([1,0,2,0,3,0]))\n",
    "print(move_zeros_to_end([1,2]))\n",
    "\n",
    "# Not ideal because nested loop"
   ]
  },
  {
   "cell_type": "code",
   "execution_count": 97,
   "id": "3a6bc14e",
   "metadata": {},
   "outputs": [
    {
     "name": "stdout",
     "output_type": "stream",
     "text": [
      "[1, 0, 2, 0, 3, 0]\n",
      "idx 0 = value 1,  not 0\n",
      "next non-zero element at = 0\n",
      "swapping 1, 1\n",
      "increment next non-zero element to 1\n",
      "[1, 0, 2, 0, 3, 0]\n",
      "\n",
      "\n",
      "[1, 0, 2, 0, 3, 0]\n",
      "idx 1 = value 0, do nothing\n",
      "count = 1\n",
      "\n",
      "\n",
      "[1, 0, 2, 0, 3, 0]\n",
      "idx 2 = value 2,  not 0\n",
      "next non-zero element at = 1\n",
      "swapping 0, 2\n",
      "increment next non-zero element to 2\n",
      "[1, 2, 0, 0, 3, 0]\n",
      "\n",
      "\n",
      "[1, 2, 0, 0, 3, 0]\n",
      "idx 3 = value 0, do nothing\n",
      "count = 2\n",
      "\n",
      "\n",
      "[1, 2, 0, 0, 3, 0]\n",
      "idx 4 = value 3,  not 0\n",
      "next non-zero element at = 2\n",
      "swapping 0, 3\n",
      "increment next non-zero element to 3\n",
      "[1, 2, 3, 0, 0, 0]\n",
      "\n",
      "\n",
      "[1, 2, 3, 0, 0, 0]\n",
      "idx 5 = value 0, do nothing\n",
      "count = 3\n",
      "\n",
      "\n",
      "[1, 2, 3, 0, 0, 0]\n",
      "\n",
      "\n",
      "[1, 2]\n",
      "idx 0 = value 1,  not 0\n",
      "next non-zero element at = 0\n",
      "swapping 1, 1\n",
      "increment next non-zero element to 1\n",
      "[1, 2]\n",
      "\n",
      "\n",
      "[1, 2]\n",
      "idx 1 = value 2,  not 0\n",
      "next non-zero element at = 1\n",
      "swapping 2, 2\n",
      "increment next non-zero element to 2\n",
      "[1, 2]\n",
      "\n",
      "\n",
      "[1, 2]\n",
      "\n",
      "\n",
      "[1, 0, 10, 0]\n",
      "idx 0 = value 1,  not 0\n",
      "next non-zero element at = 0\n",
      "swapping 1, 1\n",
      "increment next non-zero element to 1\n",
      "[1, 0, 10, 0]\n",
      "\n",
      "\n",
      "[1, 0, 10, 0]\n",
      "idx 1 = value 0, do nothing\n",
      "count = 1\n",
      "\n",
      "\n",
      "[1, 0, 10, 0]\n",
      "idx 2 = value 10,  not 0\n",
      "next non-zero element at = 1\n",
      "swapping 0, 10\n",
      "increment next non-zero element to 2\n",
      "[1, 10, 0, 0]\n",
      "\n",
      "\n",
      "[1, 10, 0, 0]\n",
      "idx 3 = value 0, do nothing\n",
      "count = 2\n",
      "\n",
      "\n",
      "[1, 10, 0, 0]\n"
     ]
    }
   ],
   "source": [
    "def fast_move_zeros_to_end(array):\n",
    "    count = 0\n",
    "    for idx, _ in enumerate(array):\n",
    "        print(array)\n",
    "\n",
    "        if array[idx] != 0:\n",
    "            print(f'idx {idx} = value {array[idx]},  not 0')\n",
    "            print(f'next non-zero element at = {count}')\n",
    "            print(f'swapping {array[count]}, {array[idx]}')\n",
    "            array[count], array[idx] = array[idx], array[count]\n",
    "            count += 1\n",
    "            print(f'increment next non-zero element to {count}')\n",
    "            print(array)\n",
    "            print('\\n')\n",
    "        else:\n",
    "            print(f'idx {idx} = value {array[idx]}, do nothing')\n",
    "            print(f'count = {count}')\n",
    "            print('\\n')\n",
    "\n",
    "    return array\n",
    "    \n",
    "print(fast_move_zeros_to_end([1,0,2,0,3,0]))\n",
    "print('\\n')\n",
    "print(fast_move_zeros_to_end([1,2]))\n",
    "print('\\n')\n",
    "print(fast_move_zeros_to_end([1,0,10,0]))"
   ]
  },
  {
   "cell_type": "code",
   "execution_count": 101,
   "id": "b79f1a9e",
   "metadata": {},
   "outputs": [
    {
     "name": "stdout",
     "output_type": "stream",
     "text": [
      "[2, 3, 1]\n"
     ]
    }
   ],
   "source": [
    "def left_rotate_by_one(array):\n",
    "    \n",
    "    first_el = array[0]\n",
    "    \n",
    "    for idx, _ in enumerate(array[1:]):\n",
    "        array[idx] = _\n",
    "    \n",
    "    array[len(array)-1] = first_el\n",
    "    \n",
    "    return array\n",
    "    \n",
    "    \n",
    "print(left_rotate_by_one([1,2,3]))"
   ]
  },
  {
   "cell_type": "code",
   "execution_count": null,
   "id": "78554fce",
   "metadata": {},
   "outputs": [],
   "source": []
  }
 ],
 "metadata": {
  "kernelspec": {
   "display_name": "Python 3 (ipykernel)",
   "language": "python",
   "name": "python3"
  },
  "language_info": {
   "codemirror_mode": {
    "name": "ipython",
    "version": 3
   },
   "file_extension": ".py",
   "mimetype": "text/x-python",
   "name": "python",
   "nbconvert_exporter": "python",
   "pygments_lexer": "ipython3",
   "version": "3.9.5"
  }
 },
 "nbformat": 4,
 "nbformat_minor": 5
}
